{
 "cells": [
  {
   "cell_type": "code",
   "execution_count": 1,
   "metadata": {},
   "outputs": [],
   "source": [
    "import pandas as pd \n",
    "import matplotlib.pyplot as plot"
   ]
  },
  {
   "cell_type": "code",
   "execution_count": 3,
   "metadata": {},
   "outputs": [
    {
     "data": {
      "text/html": [
       "<div>\n",
       "<style scoped>\n",
       "    .dataframe tbody tr th:only-of-type {\n",
       "        vertical-align: middle;\n",
       "    }\n",
       "\n",
       "    .dataframe tbody tr th {\n",
       "        vertical-align: top;\n",
       "    }\n",
       "\n",
       "    .dataframe thead th {\n",
       "        text-align: right;\n",
       "    }\n",
       "</style>\n",
       "<table border=\"1\" class=\"dataframe\">\n",
       "  <thead>\n",
       "    <tr style=\"text-align: right;\">\n",
       "      <th></th>\n",
       "      <th>date_name</th>\n",
       "      <th>local_team_id</th>\n",
       "      <th>local_team</th>\n",
       "      <th>local_result</th>\n",
       "      <th>visitor_result</th>\n",
       "      <th>visitor_team</th>\n",
       "      <th>visitor_team_id</th>\n",
       "    </tr>\n",
       "  </thead>\n",
       "  <tbody>\n",
       "    <tr>\n",
       "      <th>0</th>\n",
       "      <td>Nacional 1976 - Grupo C</td>\n",
       "      <td>1</td>\n",
       "      <td>All Boys</td>\n",
       "      <td>2</td>\n",
       "      <td>0</td>\n",
       "      <td>Aldosivi</td>\n",
       "      <td>0</td>\n",
       "    </tr>\n",
       "    <tr>\n",
       "      <th>1</th>\n",
       "      <td>Nacional 1976 - Grupo C</td>\n",
       "      <td>0</td>\n",
       "      <td>Aldosivi</td>\n",
       "      <td>4</td>\n",
       "      <td>0</td>\n",
       "      <td>All Boys</td>\n",
       "      <td>1</td>\n",
       "    </tr>\n",
       "    <tr>\n",
       "      <th>2</th>\n",
       "      <td>Superliga 2019/20 - Fecha 2</td>\n",
       "      <td>0</td>\n",
       "      <td>Aldosivi</td>\n",
       "      <td>0</td>\n",
       "      <td>0</td>\n",
       "      <td>Argentinos</td>\n",
       "      <td>7</td>\n",
       "    </tr>\n",
       "    <tr>\n",
       "      <th>3</th>\n",
       "      <td>Superliga 2018/19 - Fecha 15</td>\n",
       "      <td>7</td>\n",
       "      <td>Argentinos</td>\n",
       "      <td>1</td>\n",
       "      <td>2</td>\n",
       "      <td>Aldosivi</td>\n",
       "      <td>0</td>\n",
       "    </tr>\n",
       "    <tr>\n",
       "      <th>4</th>\n",
       "      <td>Torneo 2016 - Fecha 2</td>\n",
       "      <td>0</td>\n",
       "      <td>Aldosivi</td>\n",
       "      <td>3</td>\n",
       "      <td>2</td>\n",
       "      <td>Argentinos</td>\n",
       "      <td>7</td>\n",
       "    </tr>\n",
       "  </tbody>\n",
       "</table>\n",
       "</div>"
      ],
      "text/plain": [
       "                      date_name  local_team_id  local_team  local_result  \\\n",
       "0       Nacional 1976 - Grupo C              1    All Boys             2   \n",
       "1       Nacional 1976 - Grupo C              0    Aldosivi             4   \n",
       "2   Superliga 2019/20 - Fecha 2              0    Aldosivi             0   \n",
       "3  Superliga 2018/19 - Fecha 15              7  Argentinos             1   \n",
       "4         Torneo 2016 - Fecha 2              0    Aldosivi             3   \n",
       "\n",
       "   visitor_result visitor_team  visitor_team_id  \n",
       "0               0     Aldosivi                0  \n",
       "1               0     All Boys                1  \n",
       "2               0   Argentinos                7  \n",
       "3               2     Aldosivi                0  \n",
       "4               2   Argentinos                7  "
      ]
     },
     "execution_count": 3,
     "metadata": {},
     "output_type": "execute_result"
    }
   ],
   "source": [
    "df = pd.read_csv(\"results.csv\", index_col=\"Unnamed: 0\")\n",
    "df.head()"
   ]
  }
 ],
 "metadata": {
  "kernelspec": {
   "display_name": "Python 3",
   "language": "python",
   "name": "python3"
  },
  "language_info": {
   "codemirror_mode": {
    "name": "ipython",
    "version": 3
   },
   "file_extension": ".py",
   "mimetype": "text/x-python",
   "name": "python",
   "nbconvert_exporter": "python",
   "pygments_lexer": "ipython3",
   "version": "3.12.4"
  }
 },
 "nbformat": 4,
 "nbformat_minor": 2
}
